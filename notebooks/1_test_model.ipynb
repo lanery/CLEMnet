{
 "cells": [
  {
   "cell_type": "markdown",
   "metadata": {},
   "source": [
    "CLEMnet: Testing the model\n",
    "====================\n",
    "\n",
    "This notebook is used to test CLEMnet.\n",
    "\n",
    "It is divided into 5 parts:\n",
    "- Initialising (importing packages, setting up GPU environment, etc.)\n",
    "- Model (import model and weights, set up metrics, etc.)\n",
    "- DataGenerators and evaluation (set up data generators and use them to evaluate model with and without edge-pixel correction)\n",
    "- Prediction (create one large prediction of entire dataset)\n",
    "- Catmaid (use catmaid to overlay and compare EM image with prediction and true FM image)"
   ]
  },
  {
   "cell_type": "markdown",
   "metadata": {},
   "source": [
    "________________\n",
    "Initialising\n",
    "---------\n",
    "\n",
    "- Importing all desired packages. \n",
    "- Setting up GPU and CPU environment. \n",
    "- Initialising general variables. "
   ]
  },
  {
   "cell_type": "code",
   "execution_count": 6,
   "metadata": {},
   "outputs": [],
   "source": [
    "##### Libary #####\n",
    "import tensorflow as tf\n",
    "from tensorflow import keras\n",
    "from tensorflow.python.keras import backend as K\n",
    "\n",
    "import numpy as np\n",
    "import matplotlib.pyplot as plt\n",
    "import cv2\n",
    "import os\n",
    "import datetime\n",
    "\n",
    "import clem_net as clem\n",
    "import catmaid_v10_v2 as catmaid\n",
    "\n",
    "%matplotlib inline"
   ]
  },
  {
   "cell_type": "code",
   "execution_count": 7,
   "metadata": {},
   "outputs": [],
   "source": [
    "##### GPU setup #####\n",
    "os.environ[\"CUDA_VISIBLE_DEVICES\"]=\"1\"    #chose which GPU to use (0-3)\n",
    "\n",
    "##### CPU setup #####\n",
    "os.environ['MKL_NUM_THREADS'] = '20'     #chose the amount of CPUs to use, idk if this is working right now?\n",
    "os.environ['GOTO_NUM_THREADS'] = '20'    #however, maybe works if GPU is not present/working\n",
    "os.environ['OMP_NUM_THREADS'] = '20'\n",
    "os.environ['openmp'] = 'True'"
   ]
  },
  {
   "cell_type": "code",
   "execution_count": 8,
   "metadata": {},
   "outputs": [
    {
     "name": "stdout",
     "output_type": "stream",
     "text": [
      "General variables loaded\n"
     ]
    }
   ],
   "source": [
    "##### General variables #####\n",
    "training_dir = '/home/rlane/FMML_DATA/20200618_RL012/'     #directory to find trainable tiles\n",
    "EM_tile_size = 1024     #size in pixels of 1 EM tile\n",
    "FM_tile_size = 1024     #size in pixels of 1 FM tile\n",
    "EMFM_lvl_d = 5          #difference in scale between EM and FM\n",
    "augmen = True           #augmentation on (True) or off (False)\n",
    "edge_pixels = 4         #amount of pixels affected by convolutional edge effect\n",
    "\n",
    "clem.variables(training_dir, EM_tile_size, FM_tile_size, EMFM_lvl_d, augmen)\n",
    "\n",
    "##### Name of weights/model to test on #####\n",
    "weight_name = '134910_hoechst_2us'"
   ]
  },
  {
   "cell_type": "markdown",
   "metadata": {},
   "source": [
    "_______________\n",
    "Initialize and load model\n",
    "------------\n",
    "\n"
   ]
  },
  {
   "cell_type": "code",
   "execution_count": 9,
   "metadata": {},
   "outputs": [],
   "source": [
    "##### set up metrics #####\n",
    "def acc_pred(y_true, y_pred):\n",
    "    'accuracy metric as described in progress report'\n",
    "    a = (1-abs(y_true-y_pred))\n",
    "    b = keras.backend.sum(a)/(32*32)/batch_size\n",
    "    return b\n",
    "\n",
    "def pearson(y_true, y_pred):\n",
    "    'pearson correlation coefficient'\n",
    "    x0 = y_true-K.mean(y_true)\n",
    "    y0 = y_pred-K.mean(y_pred) \n",
    "    return K.sum(x0*y0) / (K.sqrt(K.sum((x0)**2)*K.sum((y0)**2))+1e-10)\n",
    "\n",
    "batch_size = 1"
   ]
  },
  {
   "cell_type": "code",
   "execution_count": 15,
   "metadata": {},
   "outputs": [],
   "source": [
    "##### Load model for evaluation ####\n",
    "## Load model architecture\n",
    "model = clem.getModel()\n",
    "model.compile(optimizer=tf.keras.optimizers.Adam(lr=1e-5), loss='binary_crossentropy', metrics=[acc_pred, pearson])\n",
    "#model.summary()\n",
    "\n",
    "## load model weights ###\n",
    "name_weight = \"weights/\" + weight_name + \".h5\"\n",
    "model.load_weights(name_weight)\n",
    "\n",
    "##### Load model for prediction ####\n",
    "## Load model architecture\n",
    "model_pred = clem.getModel_pred()\n",
    "model_pred.compile(optimizer=tf.keras.optimizers.Adam(lr=1e-5), loss='binary_crossentropy', metrics=[acc_pred, pearson])\n",
    "#model.summary()\n",
    "\n",
    "## load model weights\n",
    "name_weight = \"weights/\" + weight_name + \".h5\"\n",
    "model_pred.load_weights(name_weight)"
   ]
  },
  {
   "cell_type": "markdown",
   "metadata": {},
   "source": [
    "___________\n",
    "Set up DataGenerators and evaluate model\n",
    "---------\n",
    "- The dataset which will be tested is selected\n",
    "- Two DataGenerators are built: one with and one without edge-pixel correction\n",
    "- Model is evaluate on test dataset"
   ]
  },
  {
   "cell_type": "code",
   "execution_count": null,
   "metadata": {},
   "outputs": [],
   "source": [
    "##### Locate all datasets #####\n",
    "#DNA/RNA (hoechst)\n",
    "section_subfolders = [{\"EM\": \"2us/lil_EM_2us_montaged/1/\", \"FM\": \"2us/hoechst_correlated/1/\"}, \n",
    "                   {\"EM\": \"2us/lil_EM_2us_montaged/3/\", \"FM\": \"2us/hoechst_correlated/3/\"},\n",
    "                   {\"EM\": \"2us/lil_EM_2us_montaged/4/\", \"FM\": \"2us/hoechst_correlated/4/\"},\n",
    "                   {\"EM\": \"2us/lil_EM_2us_montaged/7/\", \"FM\": \"2us/hoechst_correlated/7/\"},\n",
    "                   {\"EM\": \"2us/lil_EM_2us_montaged/9/\", \"FM\": \"2us/hoechst_correlated/9/\"},\n",
    "                   {\"EM\": \"2us/lil_EM_2us_montaged/10/\", \"FM\": \"2us/hoechst_correlated/10/\"}]\n",
    "\n",
    "##### Select test dataset(s) #####\n",
    "folder_selec = i\n",
    "testsection_subfolders = [section_subfolders[folder_selec]]\n",
    "print('Testing will be performed on dataset:')\n",
    "for x in testsection_subfolders:\n",
    "    print(x)\n",
    "\n",
    "##### Combining all functions concerning patches into one class #####\n",
    "test_sections = clem.getSectionList(testsection_subfolders, clem.training_dir)"
   ]
  },
  {
   "cell_type": "code",
   "execution_count": null,
   "metadata": {},
   "outputs": [],
   "source": [
    "##### Set up Generators #####\n",
    "evaluation_generator = clem.TestGenerator(test_sections, batch_size, EM_coords = (0,0), edge_pixels=4, evaluation=True)\n",
    "prediction_generator = clem.TestGenerator(test_sections, batch_size, EM_coords = (0,0), edge_pixels=4, evaluation=False)"
   ]
  },
  {
   "cell_type": "code",
   "execution_count": null,
   "metadata": {},
   "outputs": [],
   "source": [
    "##### Evaluate model (metrics)#####\n",
    "results_eval = model.evaluate_generator(evaluation_generator, verbose=1)\n",
    "results_pred = model_pred.evaluate_generator(prediction_generator, verbose=1)"
   ]
  },
  {
   "cell_type": "markdown",
   "metadata": {},
   "source": [
    "___________\n",
    "Create prediction\n",
    "--------\n",
    "- Create prediction of all available EM patches \n",
    "- However, make ever EM patch edge_pixels larger to account for convolutional edge effect\n",
    "- Stitch all predictions together, but delete edge_pixels amount of edge pixels on every side of every prediction first.\n",
    "- Save prediction as numpy array to maintain resolution"
   ]
  },
  {
   "cell_type": "code",
   "execution_count": null,
   "metadata": {},
   "outputs": [],
   "source": [
    "##### Create predictions #####\n",
    "predictions = model_pred.predict_generator(prediction_generator, verbose=1)"
   ]
  },
  {
   "cell_type": "code",
   "execution_count": null,
   "metadata": {},
   "outputs": [],
   "source": [
    "##### Glue predictions #####\n",
    "\n",
    "# Initialization\n",
    "cut_off = np.array(test_sections[0].max_tiles)*32+64    #finding length and width of total area\n",
    "fm_pred = np.zeros(((cut_off[0]), (cut_off[1])))\n",
    "em_set = test_sections[0].sectionXYList\n",
    "\n",
    "# Predict FM\n",
    "for k, im_FM_patch in enumerate(predictions):\n",
    "    tile_xy = em_set[k]\n",
    "    i = int(tile_xy[0])*32\n",
    "    j = int(tile_xy[1])*32\n",
    "    fm_pred[i:i+32, \n",
    "            j:j+32] = im_FM_patch[:,:,0]"
   ]
  },
  {
   "cell_type": "code",
   "execution_count": null,
   "metadata": {},
   "outputs": [],
   "source": [
    "#### Show and save prediction #####\n",
    "\n",
    "# Figure\n",
    "fig_size = 8\n",
    "fig = plt.figure(figsize=(fig_size,fig_size))\n",
    "plt.imshow(fm_pred)\n",
    "plt.axis('off')\n",
    "\n",
    "# Save both as figure and (more important) as .npy file\n",
    "# fig.savefig('figures/' + weight_name + '_hoechst_' + str(folder_selec) + '_2us.png')\n",
    "file_name = testsection_subfolders[0][\"EM\"].split('/')\n",
    "prediction_name = 'predictions/' + weight_name + '/' + file_name[1] + '_' + file_name[2]\n",
    "np.save(prediction_name, fm_pred)"
   ]
  },
  {
   "cell_type": "code",
   "execution_count": 96,
   "metadata": {},
   "outputs": [],
   "source": [
    "##### load predictions #####\n",
    "#In case of already existing prediction, call that prediction in the next line\n",
    "#prediction_name = 'predictions/' + '00_FINAL_13479_hoechst_data_aug_2_hoechst_5_2us'\n",
    "predictions = np.load(prediction_name + '.npy')"
   ]
  },
  {
   "cell_type": "markdown",
   "metadata": {},
   "source": [
    "___________\n",
    "Catmaid, show predictions\n",
    "----------\n",
    "- Use catmaid to compare predictions with EM and true FM images.\n",
    "- Here, a simplified version of catmaid is used, for more possibilities, use `image_viewer`"
   ]
  },
  {
   "cell_type": "code",
   "execution_count": 13,
   "metadata": {},
   "outputs": [
    {
     "name": "stdout",
     "output_type": "stream",
     "text": [
      "General variables loaded\n"
     ]
    }
   ],
   "source": [
    "catmaid.variables(training_dir, EM_tile_size, FM_tile_size, EMFM_lvl_d)"
   ]
  },
  {
   "cell_type": "code",
   "execution_count": 14,
   "metadata": {},
   "outputs": [
    {
     "data": {
      "application/vnd.jupyter.widget-view+json": {
       "model_id": "1e4c4977dc124712868362349c1bbd7e",
       "version_major": 2,
       "version_minor": 0
      },
      "text/plain": [
       "Button(description='Save', style=ButtonStyle())"
      ]
     },
     "metadata": {},
     "output_type": "display_data"
    },
    {
     "data": {
      "application/vnd.jupyter.widget-view+json": {
       "model_id": "c4cedaef1b974ce4b79e097c4768d947",
       "version_major": 2,
       "version_minor": 0
      },
      "text/plain": [
       "Output()"
      ]
     },
     "metadata": {},
     "output_type": "display_data"
    },
    {
     "data": {
      "application/vnd.jupyter.widget-view+json": {
       "model_id": "e20b610c2e2149e99977ccb3308838e0",
       "version_major": 2,
       "version_minor": 0
      },
      "text/plain": [
       "VBox(children=(HBox(children=(IntSlider(value=100, style=SliderStyle(handle_color='lightblue')), Label(value='…"
      ]
     },
     "metadata": {},
     "output_type": "display_data"
    },
    {
     "data": {
      "application/vnd.jupyter.widget-view+json": {
       "model_id": "17fbe28aa35645b6bdfe706f57a99246",
       "version_major": 2,
       "version_minor": 0
      },
      "text/plain": [
       "Output()"
      ]
     },
     "metadata": {},
     "output_type": "display_data"
    }
   ],
   "source": [
    "fig_size = 9\n",
    "fig_name = weight_name + '_hoechst_' + str(folder_selec)\n",
    "catmaid.catmaid(predictions, testsection_subfolders, fig_size, fig_name)"
   ]
  },
  {
   "cell_type": "code",
   "execution_count": null,
   "metadata": {},
   "outputs": [],
   "source": []
  }
 ],
 "metadata": {
  "kernelspec": {
   "display_name": "Python 3",
   "language": "python",
   "name": "python3"
  },
  "language_info": {
   "codemirror_mode": {
    "name": "ipython",
    "version": 3
   },
   "file_extension": ".py",
   "mimetype": "text/x-python",
   "name": "python",
   "nbconvert_exporter": "python",
   "pygments_lexer": "ipython3",
   "version": "3.7.6"
  }
 },
 "nbformat": 4,
 "nbformat_minor": 4
}
