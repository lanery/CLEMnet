{
 "cells": [
  {
   "cell_type": "markdown",
   "metadata": {},
   "source": [
    "CLEMnet: Overlay\n",
    "================\n",
    "\n",
    "This notebook is used to overlay the predictions of CLEMnet on top of the EM dataset. Furthermore, the true FM images can be loaded in to compare the predictions with. The other possibilities of the image viewer:\n",
    "- Zoom in up to a magnification of 2^6\n",
    "- Navigate over the entire dataset\n",
    "- Change overlay transparancy of predictions and FM images\n",
    "- Calculate Pearson correlation coefficients for selected regions\n",
    "- Save the current view window to a separate .png file\n"
   ]
  },
  {
   "cell_type": "code",
   "execution_count": 1,
   "metadata": {},
   "outputs": [
    {
     "name": "stdout",
     "output_type": "stream",
     "text": [
      "General variables loaded\n"
     ]
    }
   ],
   "source": [
    "##### Libary #####\n",
    "import numpy as np\n",
    "import matplotlib.pyplot as plt\n",
    "import cv2\n",
    "import os\n",
    "import datetime\n",
    "\n",
    "import clem_catmaid_double as clem\n",
    "\n",
    "%matplotlib inline\n"
   ]
  },
  {
   "cell_type": "code",
   "execution_count": null,
   "metadata": {},
   "outputs": [],
   "source": [
    "##### CPU setup #####\n",
    "os.environ['MKL_NUM_THREADS'] = '20'\n",
    "os.environ['GOTO_NUM_THREADS'] = '20'\n",
    "os.environ['OMP_NUM_THREADS'] = '20'\n",
    "os.environ['openmp'] = 'True'\n"
   ]
  },
  {
   "cell_type": "code",
   "execution_count": null,
   "metadata": {},
   "outputs": [],
   "source": [
    "##### General variables #####   \n",
    "training_dir = '/home/rlane/FMML_DATA/20200618_RL012/2us/'    #directory to find training data\n",
    "EM_tile_size = 1024     #size in pixels of 1 EM tile\n",
    "\n",
    "clem.variables(training_dir, EM_tile_size)"
   ]
  },
  {
   "cell_type": "code",
   "execution_count": 2,
   "metadata": {},
   "outputs": [],
   "source": [
    "##### Locate all datasets #####\n",
    "slide_subfolders = [{\"EM\": \"lil_EM_2us_montaged/1/\", \"FM_1\": \"hoechst_correlated/1/\", \"FM_2\": \"insulin_correlated/1/\"}, \n",
    "                    {\"EM\": \"lil_EM_2us_montaged/3/\", \"FM_1\": \"hoechst_correlated/3/\", \"FM_2\": \"insulin_correlated/3/\"},\n",
    "                    {\"EM\": \"lil_EM_2us_montaged/4/\", \"FM_1\": \"hoechst_correlated/4/\", \"FM_2\": \"insulin_correlated/4/\"},\n",
    "                    {\"EM\": \"lil_EM_2us_montaged/7/\", \"FM_1\": \"hoechst_correlated/7/\", \"FM_2\": \"insulin_correlated/7/\"},\n",
    "                    {\"EM\": \"lil_EM_2us_montaged/9/\", \"FM_1\": \"hoechst_correlated/9/\", \"FM_2\": \"insulin_correlated/9/\"},\n",
    "                    {\"EM\": \"lil_EM_2us_montaged/10/\", \"FM_1\": \"hoechst_correlated/10/\", \"FM_2\": \"insulin_correlated/10/\"}]"
   ]
  },
  {
   "cell_type": "code",
   "execution_count": 3,
   "metadata": {},
   "outputs": [
    {
     "data": {
      "application/vnd.jupyter.widget-view+json": {
       "model_id": "28e0b72abf64443995c8c743b23a78d3",
       "version_major": 2,
       "version_minor": 0
      },
      "text/plain": [
       "HBox(children=(Button(description='Save', style=ButtonStyle()),))"
      ]
     },
     "metadata": {},
     "output_type": "display_data"
    },
    {
     "data": {
      "application/vnd.jupyter.widget-view+json": {
       "model_id": "579b22f402e8436d9ff2e863c50bfc61",
       "version_major": 2,
       "version_minor": 0
      },
      "text/plain": [
       "Output()"
      ]
     },
     "metadata": {},
     "output_type": "display_data"
    },
    {
     "data": {
      "application/vnd.jupyter.widget-view+json": {
       "model_id": "e41cc6adab3c452882b380798f110f03",
       "version_major": 2,
       "version_minor": 0
      },
      "text/plain": [
       "VBox(children=(HBox(children=(IntSlider(value=61, min=1, style=SliderStyle(handle_color='blue')), Label(value=…"
      ]
     },
     "metadata": {},
     "output_type": "display_data"
    },
    {
     "data": {
      "application/vnd.jupyter.widget-view+json": {
       "model_id": "374a731912cc442885e026681da7161c",
       "version_major": 2,
       "version_minor": 0
      },
      "text/plain": [
       "Output()"
      ]
     },
     "metadata": {},
     "output_type": "display_data"
    }
   ],
   "source": [
    "##### CATMAID #####\n",
    "\n",
    "## select dataset\n",
    "test_folder = 5\n",
    "testslide_subfolders = [slide_subfolders[test_folder]]\n",
    "\n",
    "## figure properties\n",
    "fig_size = 12\n",
    "fig_name = 'Report/4us' + str(test_folder)  #name of figure in case of saving (save to 'figures' folder)\n",
    "cut_off = 1024\n",
    "\n",
    "## prediction properties\n",
    "hoechst_pred = False\n",
    "insulin_pred = False\n",
    "prediction_hoechst = '00_FINAL_134910_hoechst_data_aug_2_hoechst_3_2us'\n",
    "prediction_insulin = '00_FINAL_134910_hoechst_data_aug_2_hoechst_3_2us'\n",
    "\n",
    "## Catmaid\n",
    "im = clem.catmaid(testslide_subfolders, prediction_hoechst, prediction_insulin, cut_off, fig_size, fig_name, hoechst_pred, insulin_pred)"
   ]
  },
  {
   "cell_type": "code",
   "execution_count": null,
   "metadata": {},
   "outputs": [],
   "source": [
    "##### Show Pearson correlation coeffient #####\n",
    "import pandas as pd\n",
    "df = pd.read_excel ('PearsonCorrelationHoechst.xls')\n",
    "print (df)\n",
    "df = pd.read_excel ('PearsonCorrelationInsulin.xls')\n",
    "print (df)"
   ]
  },
  {
   "cell_type": "code",
   "execution_count": null,
   "metadata": {},
   "outputs": [],
   "source": []
  }
 ],
 "metadata": {
  "kernelspec": {
   "display_name": "Python 3",
   "language": "python",
   "name": "python3"
  },
  "language_info": {
   "codemirror_mode": {
    "name": "ipython",
    "version": 3
   },
   "file_extension": ".py",
   "mimetype": "text/x-python",
   "name": "python",
   "nbconvert_exporter": "python",
   "pygments_lexer": "ipython3",
   "version": "3.7.6"
  }
 },
 "nbformat": 4,
 "nbformat_minor": 4
}
